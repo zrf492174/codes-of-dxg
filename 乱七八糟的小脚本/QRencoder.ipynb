{
 "cells": [
  {
   "cell_type": "code",
   "execution_count": 3,
   "id": "07123b8c",
   "metadata": {
    "scrolled": true
   },
   "outputs": [],
   "source": [
    "import qrcode"
   ]
  },
  {
   "cell_type": "code",
   "execution_count": 5,
   "id": "ff327432",
   "metadata": {},
   "outputs": [],
   "source": [
    "data = \"https://cn.bing.com/search?q=%E9%93%BE%E6%8E%A5%E5%A6%82%E4%BD%95%E5%8A%A0%E5%85%A5%E5%88%B0%E4%BA%8C%E7%BB%B4%E7%A0%81&cvid=29b798685be24590be1eb27fb33319fc&gs_lcrp=EgZjaHJvbWUyBggAEEUYOdIBCTIyMDExajBqNKgCALACAA&FORM=ANAB01&adppc=EdgeStart&PC=U531\"\n",
    "img = qrcode.make(data)\n",
    "img.save('./sqefsdz.png')"
   ]
  }
 ],
 "metadata": {
  "kernelspec": {
   "display_name": "Python 3 (ipykernel)",
   "language": "python",
   "name": "python3"
  },
  "language_info": {
   "codemirror_mode": {
    "name": "ipython",
    "version": 3
   },
   "file_extension": ".py",
   "mimetype": "text/x-python",
   "name": "python",
   "nbconvert_exporter": "python",
   "pygments_lexer": "ipython3",
   "version": "3.11.5"
  }
 },
 "nbformat": 4,
 "nbformat_minor": 5
}
